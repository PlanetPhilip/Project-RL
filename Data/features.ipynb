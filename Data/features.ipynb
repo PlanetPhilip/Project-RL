{
 "cells": [
  {
   "cell_type": "code",
   "execution_count": 77,
   "id": "35ec5e3d-149b-45a9-9acd-4e325ba12fbb",
   "metadata": {},
   "outputs": [
    {
     "name": "stdout",
     "output_type": "stream",
     "text": [
      "            Hour 01  Hour 02  Hour 03  Hour 04  Hour 05  Hour 06  Hour 07  \\\n",
      "Date                                                                        \n",
      "2007-01-01    24.31    24.31    21.71     8.42     0.01     0.01     0.02   \n",
      "2007-01-02    16.01    11.00     9.01     7.50     9.00     7.45    16.50   \n",
      "2007-01-03    28.00    24.50    24.15    18.99    15.50    23.11    29.01   \n",
      "2007-01-04    31.01    28.69    27.00    24.20    12.02    27.00    28.00   \n",
      "2007-01-05    22.00    19.50    17.55    15.91    11.40    22.65    27.30   \n",
      "\n",
      "            Hour 08  Hour 09  Hour 10  ...  Hour 15  Hour 16  Hour 17  \\\n",
      "Date                                   ...                              \n",
      "2007-01-01     0.01     0.01     6.31  ...    15.00    10.00     8.17   \n",
      "2007-01-02    28.01    29.96    39.60  ...    37.57    36.45    37.99   \n",
      "2007-01-03    39.73    43.81    49.09  ...    43.21    43.99    48.00   \n",
      "2007-01-04    34.85    41.31    42.03  ...    40.01    38.00    42.66   \n",
      "2007-01-05    34.00    40.01    45.00  ...    40.06    38.00    38.61   \n",
      "\n",
      "            Hour 18  Hour 19  Hour 20  Hour 21  Hour 22  Hour 23  Hour 24  \n",
      "Date                                                                       \n",
      "2007-01-01    27.77    37.99    33.11    37.99    33.00    36.48    30.65  \n",
      "2007-01-02    53.00    59.69    50.09    50.00    36.22    31.09    29.84  \n",
      "2007-01-03    57.00    60.99    55.51    51.77    34.51    39.31    38.05  \n",
      "2007-01-04    53.00    58.99    53.50    44.01    35.00    34.46    31.57  \n",
      "2007-01-05    49.84    53.00    45.91    36.74    29.61    30.61    27.51  \n",
      "\n",
      "[5 rows x 24 columns]\n"
     ]
    }
   ],
   "source": [
    "\n",
    "data = pd.read_excel('train.xlsx')\n",
    "\n",
    "# Convert PRICES column to datetime format\n",
    "data['Date'] = pd.to_datetime(data['PRICES'], format='%d/%b/%y')\n",
    "\n",
    "# Set the Date column as the index\n",
    "data.set_index('Date', inplace=True)\n",
    "\n",
    "# Drop the original PRICES column \n",
    "data.drop('PRICES', axis=1, inplace=True)\n",
    "print(data.head()) "
   ]
  },
  {
   "cell_type": "code",
   "execution_count": 79,
   "id": "29eac922-3675-4b86-83d1-d9aec4c3cf29",
   "metadata": {},
   "outputs": [],
   "source": [
    "#Daily Average Price\n",
    "data['Daily_Avg_Price'] = data.mean(axis=1)\n",
    "\n"
   ]
  },
  {
   "cell_type": "code",
   "execution_count": 81,
   "id": "52966e72-6a10-4565-8ade-d2f692755ce1",
   "metadata": {},
   "outputs": [
    {
     "name": "stderr",
     "output_type": "stream",
     "text": [
      "/var/folders/w_/ckl_jc6d3qs75bb4k9xzxkkr0000gn/T/ipykernel_8701/4074761442.py:2: FutureWarning: Support for axis=1 in DataFrame.rolling is deprecated and will be removed in a future version. Use obj.T.rolling(...) instead\n",
      "  data['Rolling_Avg_6h'] = data.iloc[:, :24].rolling(window=6, axis=1).mean().iloc[:, -1]\n"
     ]
    }
   ],
   "source": [
    "# Rolling Average Prices\n",
    "data['Rolling_Avg_6h'] = data.iloc[:, :24].rolling(window=6, axis=1).mean().iloc[:, -1]\n"
   ]
  },
  {
   "cell_type": "code",
   "execution_count": 83,
   "id": "228ec632-dcd5-43ec-a926-c40c3bfd7a7c",
   "metadata": {},
   "outputs": [],
   "source": [
    "# Lowest Hourly Price\n",
    "data['Daily_Min_Price'] = data.iloc[:, :24].min(axis=1)\n"
   ]
  },
  {
   "cell_type": "code",
   "execution_count": 85,
   "id": "d48b78b6-113e-41c4-b655-f196ea25feaf",
   "metadata": {},
   "outputs": [],
   "source": [
    "# Hour of Lowest Price\n",
    "data['Hour_of_Min_Price'] = data.iloc[:, :24].idxmin(axis=1)\n"
   ]
  },
  {
   "cell_type": "code",
   "execution_count": 87,
   "id": "949ae728-c82a-4d12-b4a0-54a5fae1929c",
   "metadata": {},
   "outputs": [],
   "source": [
    "# Price Fluctuation \n",
    "data['Price_Fluctuation'] = data.iloc[:, :24].std(axis=1)\n"
   ]
  },
  {
   "cell_type": "code",
   "execution_count": 89,
   "id": "892146cc-ad44-4d24-849b-1db2b58a0359",
   "metadata": {},
   "outputs": [],
   "source": [
    "# Cumulative Energy Cost (Calculates the total cost of energy bought hour by hour throughout the day)\n",
    "data['Cumulative_Cost'] = data.iloc[:, :24].cumsum(axis=1).iloc[:, -1]\n"
   ]
  },
  {
   "cell_type": "code",
   "execution_count": 91,
   "id": "2c9d49c9-739b-453f-a234-bbb4e8f7044f",
   "metadata": {},
   "outputs": [],
   "source": [
    "# Daily Range (Max-Min Price)\n",
    "data['Daily_Range_Price'] = data.iloc[:, :24].max(axis=1) - data.iloc[:, :24].min(axis=1)\n"
   ]
  },
  {
   "cell_type": "code",
   "execution_count": 93,
   "id": "6dd0a67a-cea8-40c5-86f4-1693fb2976b4",
   "metadata": {},
   "outputs": [],
   "source": [
    "# Remaining Energy Demand\n",
    "daily_requirement = 120\n",
    "data['Remaining_Energy_Demand'] = daily_requirement - data.iloc[:, :24].sum(axis=1)\n"
   ]
  },
  {
   "cell_type": "code",
   "execution_count": 95,
   "id": "7848f1fe-7dfe-4a70-8fd6-350c5d81d7b8",
   "metadata": {},
   "outputs": [],
   "source": [
    "# Battery State \n",
    "max_battery_capacity = 50\n",
    "data['Battery_State'] = data.iloc[:, :24].cumsum(axis=1).clip(upper=max_battery_capacity).iloc[:, -1]\n"
   ]
  },
  {
   "cell_type": "code",
   "execution_count": 97,
   "id": "e1813a12-809f-4772-ab0f-f8170c0c75b8",
   "metadata": {},
   "outputs": [],
   "source": [
    "# Energy Cost Efficiency\n",
    "data['Cost_Efficiency'] = data.iloc[:, :24].mean(axis=1).apply(lambda x: 'Buy' if x < 50 else 'Sell')\n"
   ]
  },
  {
   "cell_type": "code",
   "execution_count": 101,
   "id": "601f580b-4f61-4892-b655-9bb560f7c021",
   "metadata": {},
   "outputs": [],
   "source": [
    "data.to_csv('enhanced_dataset.csv', index=True)\n"
   ]
  },
  {
   "cell_type": "code",
   "execution_count": 105,
   "id": "c27c3ea1-003c-4dcb-a45b-de031f00e2a5",
   "metadata": {},
   "outputs": [],
   "source": [
    "X = data[['Daily_Avg_Price', 'Rolling_Avg_6h', 'Daily_Min_Price', 'Hour_of_Min_Price',\n",
    "          'Price_Fluctuation', 'Cumulative_Cost', 'Daily_Range_Price', \n",
    "          'Remaining_Energy_Demand', 'Battery_State']]\n",
    "\n",
    "y = data['Cost_Efficiency']  # Target column\n",
    "\n",
    "# Combine X and y into one DataFrame\n",
    "data_combined = pd.concat([X, y], axis=1)\n",
    "\n",
    "data_combined.to_csv('data_combined.csv', index=False)\n"
   ]
  },
  {
   "cell_type": "code",
   "execution_count": null,
   "id": "6a907a53-5da9-43bb-aafe-3420a1b38f5a",
   "metadata": {},
   "outputs": [],
   "source": []
  },
  {
   "cell_type": "code",
   "execution_count": null,
   "id": "12152246-b323-44e2-ac77-b643273d3761",
   "metadata": {},
   "outputs": [],
   "source": []
  },
  {
   "cell_type": "code",
   "execution_count": null,
   "id": "287289cc-db32-43ae-8af5-4f50b3ab5b13",
   "metadata": {},
   "outputs": [],
   "source": []
  },
  {
   "cell_type": "code",
   "execution_count": null,
   "id": "f0c68f7d-a37b-43ce-8f99-6b4914fb9989",
   "metadata": {},
   "outputs": [],
   "source": []
  },
  {
   "cell_type": "code",
   "execution_count": null,
   "id": "f40dfb1e-5a69-4094-a421-82e5b77803e6",
   "metadata": {},
   "outputs": [],
   "source": []
  },
  {
   "cell_type": "code",
   "execution_count": null,
   "id": "8e6def9b-7f64-40f3-9177-38c38a511a68",
   "metadata": {},
   "outputs": [],
   "source": []
  }
 ],
 "metadata": {
  "kernelspec": {
   "display_name": "Python 3 (ipykernel)",
   "language": "python",
   "name": "python3"
  },
  "language_info": {
   "codemirror_mode": {
    "name": "ipython",
    "version": 3
   },
   "file_extension": ".py",
   "mimetype": "text/x-python",
   "name": "python",
   "nbconvert_exporter": "python",
   "pygments_lexer": "ipython3",
   "version": "3.11.7"
  }
 },
 "nbformat": 4,
 "nbformat_minor": 5
}
